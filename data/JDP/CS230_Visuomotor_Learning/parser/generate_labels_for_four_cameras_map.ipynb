{
 "cells": [
  {
   "cell_type": "code",
   "execution_count": 5,
   "metadata": {},
   "outputs": [],
   "source": [
    "import numpy as np\n",
    "import cv2\n",
    "import sklearn.model_selection as sk\n",
    "import pickle\n",
    "from analysis import parse_protobufs\n",
    "from ipdb import set_trace as debug\n",
    "from os.path import basename\n",
    "camera_num = \"4\"\n",
    "\n",
    "class struct():\n",
    "    pass\n",
    "\n",
    "def parse_data(save=True):\n",
    "    path = struct()\n",
    "    labels_output_map = {}\n",
    "    path.data_folder = 'TeleOpVRSession_2018-03-07_14-38-06_Camera' + camera_num + '/'\n",
    "    path.data_name = '_SessionStateData.proto'\n",
    "    data = parse_protobufs(path)\n",
    "    # example data extraction of x value of object/item 0 in training example 0: data.states[0].items[0].x\n",
    "    num_examples = len(data.states) # number or screenshots\n",
    "    num_items = []  # number of items in each example\n",
    "    labels = []\n",
    "    X_rgb = np.empty([0,299,299,3])\n",
    "    X_d = np.empty([0,299,299])\n",
    "    # format labels into n x 6 array\n",
    "#     for ida in range(len(data.states)):\n",
    "#         if (basename(data.states[ida].snapshot.name) == \"d056d51f-c75b-4221-ae99-4779fe318309_9009.jpg\"):\n",
    "#             print(data.states[ida].snapshot.name)\n",
    "#             print(data.states[ida].items)\n",
    "#     return\n",
    "    for i in range(len(data.states)):\n",
    "\n",
    "        khot_temp = np.zeros(55)\n",
    "        #K Hot Encoding\n",
    "        for j in range(len(data.states[i].items)):\n",
    "            khot_temp[int(data.states[i].items[j].id)] = 1\n",
    "        # read in rgb and depth images and add a new axis to them to indicate which snapshot index for each image\n",
    "        \n",
    "        labels_output_map[basename(data.states[i].snapshot.name)] = khot_temp\n",
    "#         X_rgb = np.vstack([X_rgb, rgb_img])\n",
    "#         X_d = np.vstack([X_d, depth_img])\n",
    "    \n",
    "\n",
    "    if save:\n",
    "        save_path = 'data/'\n",
    "#         np.save(save_path + \"X_rgb.npy\", X_rgb)\n",
    "#         np.save(save_path + \"X_d.npy\", X_d)\n",
    "\n",
    "#         pickle the labels for use elsewhere\n",
    "        pickle.dump(labels_output_map, open(save_path + \"cam\" + camera_num + \"dict.p\", \"wb\" ) )\n",
    "#         np.save(save_path + \"y.npy\", y)\n",
    "\n",
    "    return X_rgb, X_d, None\n",
    "\n",
    "\n",
    "if __name__ == '__main__':\n",
    "    parse_data(save=True)\n",
    "#     X = (np.concatenate((X_rgb,np.expand_dims(X_d, axis=3)), axis=3))\n",
    "#     X_train, X_test, y_train, y_test = sk.train_test_split(X,y,test_size=.3, random_state=42)\t# random_state=42 ensure indices are same for train/test set for X_rgb and X_d since they must match\n"
   ]
  },
  {
   "cell_type": "code",
   "execution_count": null,
   "metadata": {},
   "outputs": [],
   "source": []
  }
 ],
 "metadata": {
  "kernelspec": {
   "display_name": "Python 3",
   "language": "python",
   "name": "python3"
  },
  "language_info": {
   "codemirror_mode": {
    "name": "ipython",
    "version": 3
   },
   "file_extension": ".py",
   "mimetype": "text/x-python",
   "name": "python",
   "nbconvert_exporter": "python",
   "pygments_lexer": "ipython3",
   "version": "3.6.3"
  }
 },
 "nbformat": 4,
 "nbformat_minor": 2
}
