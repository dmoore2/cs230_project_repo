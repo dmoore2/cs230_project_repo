{
 "cells": [
  {
   "cell_type": "code",
   "execution_count": 1,
   "metadata": {},
   "outputs": [
    {
     "ename": "ImportError",
     "evalue": "No module named sklearn.model_selection",
     "output_type": "error",
     "traceback": [
      "\u001b[0;31m---------------------------------------------------------------------------\u001b[0m",
      "\u001b[0;31mImportError\u001b[0m                               Traceback (most recent call last)",
      "\u001b[0;32m<ipython-input-1-e9095eeaee6e>\u001b[0m in \u001b[0;36m<module>\u001b[0;34m()\u001b[0m\n\u001b[1;32m      1\u001b[0m \u001b[0;32mimport\u001b[0m \u001b[0mnumpy\u001b[0m \u001b[0;32mas\u001b[0m \u001b[0mnp\u001b[0m\u001b[0;34m\u001b[0m\u001b[0m\n\u001b[1;32m      2\u001b[0m \u001b[0;32mimport\u001b[0m \u001b[0mcv2\u001b[0m\u001b[0;34m\u001b[0m\u001b[0m\n\u001b[0;32m----> 3\u001b[0;31m \u001b[0;32mimport\u001b[0m \u001b[0msklearn\u001b[0m\u001b[0;34m.\u001b[0m\u001b[0mmodel_selection\u001b[0m \u001b[0;32mas\u001b[0m \u001b[0msk\u001b[0m\u001b[0;34m\u001b[0m\u001b[0m\n\u001b[0m\u001b[1;32m      4\u001b[0m \u001b[0;32mimport\u001b[0m \u001b[0mpickle\u001b[0m\u001b[0;34m\u001b[0m\u001b[0m\n\u001b[1;32m      5\u001b[0m \u001b[0;32mfrom\u001b[0m \u001b[0msklearn\u001b[0m\u001b[0;34m.\u001b[0m\u001b[0mpreprocessing\u001b[0m \u001b[0;32mimport\u001b[0m \u001b[0mOneHotEncoder\u001b[0m\u001b[0;34m\u001b[0m\u001b[0m\n",
      "\u001b[0;31mImportError\u001b[0m: No module named sklearn.model_selection"
     ]
    }
   ],
   "source": [
    "import numpy as np\n",
    "import cv2\n",
    "import sklearn.model_selection as sk\n",
    "import pickle\n",
    "from analysis import parse_protobufs\n",
    "from ipdb import set_trace as debug\n",
    "\n",
    "class struct():\n",
    "    pass\n",
    "\n",
    "def parse_data(save=True):\n",
    "    path = struct()\n",
    "    path.data_folder = 'TeleOpVRSession_2018-02-05_15-44-11/'\n",
    "    path.data_name = '_SessionStateData.proto'\n",
    "    data = parse_protobufs(path)\n",
    "    # example data extraction of x value of object/item 0 in training example 0: data.states[0].items[0].x\n",
    "    num_examples = len(data.states) # number or screenshots\n",
    "    num_items = []  # number of items in each example\n",
    "    labels = []\n",
    "    X_rgb = np.empty([0,299,299,3])\n",
    "    X_d = np.empty([0,299,299])\n",
    "    # format labels into n x 6 array\n",
    "    for i in range(10):\n",
    "        num_items.append(len(data.states[i].items))\n",
    "        img_name = str(data.states[i].snapshot.name)\n",
    "        depth_name = img_name[:-4] + '-Depth.jpg'\n",
    "        khot_temp = np.zeros(55)\n",
    "        #K Hot Encoding\n",
    "        for j in range(len(data.states[i].items)):\n",
    "            pass\n",
    "            khot_temp[int(data.states[i].items[j].id)] = 1\n",
    "        # read in rgb and depth images and add a new axis to them to indicate which snapshot index for each image\n",
    "        rgb_img = np.expand_dims(cv2.imread(img_name, 1), axis=0)\n",
    "        depth_img = np.expand_dims(cv2.imread(depth_name, 0), axis = 0)\n",
    "        current_label = [data.states[i].snapshot.name,int(len(data.states[i].items))]\n",
    "        current_label = np.append(current_label,khot_temp,axis = 0)\n",
    "        \n",
    "        labels.append(current_label)\n",
    "        X_rgb = np.vstack([X_rgb, rgb_img])\n",
    "        X_d = np.vstack([X_d, depth_img])\n",
    "\n",
    "    # convert to numpy array and remove identifying labels, index will be used as label now\n",
    "    y = np.array(labels)\n",
    "#     y = y[:, 2:]\n",
    "#     y = y.astype(float)\n",
    "#     print(y.shape)\n",
    "#     print(X_rgb.shape)\n",
    "\n",
    "    if save:\n",
    "        save_path = 'data/'\n",
    "        np.save(save_path + \"X_rgb.npy\", X_rgb)\n",
    "        np.save(save_path + \"X_d.npy\", X_d)\n",
    "        np.save(save_path + \"y.npy\", y)\n",
    "\n",
    "    return X_rgb, X_d, y\n",
    "\n",
    "\n",
    "if __name__ == '__main__':\n",
    "    X_rgb, X_d, y = parse_data(save=False)\n",
    "    X = (np.concatenate((X_rgb,np.expand_dims(X_d, axis=3)), axis=3))\n",
    "#     X_train, X_test, y_train, y_test = sk.train_test_split(X,y,test_size=.3, random_state=42)\t# random_state=42 ensure indices are same for train/test set for X_rgb and X_d since they must match\n"
   ]
  },
  {
   "cell_type": "code",
   "execution_count": null,
   "metadata": {},
   "outputs": [],
   "source": []
  }
 ],
 "metadata": {
  "kernelspec": {
   "display_name": "Environment (conda_caffe2_p27)",
   "language": "python",
   "name": "conda_caffe2_p27"
  },
  "language_info": {
   "codemirror_mode": {
    "name": "ipython",
    "version": 2
   },
   "file_extension": ".py",
   "mimetype": "text/x-python",
   "name": "python",
   "nbconvert_exporter": "python",
   "pygments_lexer": "ipython2",
   "version": "2.7.14"
  }
 },
 "nbformat": 4,
 "nbformat_minor": 2
}
